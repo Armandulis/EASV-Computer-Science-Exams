{
  "nbformat": 4,
  "nbformat_minor": 0,
  "metadata": {
    "colab": {
      "name": "Armandas_Bruzas_CIFAR10_Solution.ipynb",
      "provenance": [],
      "collapsed_sections": [],
      "authorship_tag": "ABX9TyONvBIC5j3aybgi7vSPc1Hc"
    },
    "kernelspec": {
      "name": "python3",
      "display_name": "Python 3"
    }
  },
  "cells": [
    {
      "cell_type": "markdown",
      "metadata": {
        "id": "11Cq0ugGFzq8"
      },
      "source": [
        "###  Armandas Bruzas,  Machine learning exam project\n",
        "##  CIFAR-10 - Image classification\n",
        "Dataset description: http://www.cs.toronto.edu/~kriz/cifar.html"
      ]
    },
    {
      "cell_type": "code",
      "metadata": {
        "colab": {
          "base_uri": "https://localhost:8080/"
        },
        "id": "rciD3W4f1mI8",
        "outputId": "36a56333-c11d-4c29-ce80-c50904d79f24"
      },
      "source": [
        "# Check python version, need 3.6 or 3.7 for tensorflow to work\r\n",
        "from platform import python_version\r\n",
        "print(python_version())"
      ],
      "execution_count": 1,
      "outputs": [
        {
          "output_type": "stream",
          "text": [
            "3.6.9\n"
          ],
          "name": "stdout"
        }
      ]
    },
    {
      "cell_type": "code",
      "metadata": {
        "id": "sIKofz0ZhP1W"
      },
      "source": [
        "# Set up and import libraries\n",
        "import numpy\n",
        "import matplotlib\n",
        "import pandas as pd\n",
        "from matplotlib import pyplot\n",
        "\n",
        "# Tensorflow and keras\n",
        "import tensorflow as tf\n",
        "from tensorflow import keras\n",
        "from keras.models import Sequential\n",
        "from keras.layers import Dense, Flatten, Conv2D, MaxPooling2D, Dropout\n",
        "from tensorflow.keras import layers\n",
        "from keras.utils import to_categorical\n",
        "\n",
        "# To make output of the notebook more stable\n",
        "numpy.random.seed(42)\n",
        "tf.random.set_seed(42)\n"
      ],
      "execution_count": 2,
      "outputs": []
    },
    {
      "cell_type": "code",
      "metadata": {
        "colab": {
          "base_uri": "https://localhost:8080/"
        },
        "id": "zgbypIREfyak",
        "outputId": "146001c2-feda-4d7e-eff7-325b597932a0"
      },
      "source": [
        "# Get data set and split it intto test and training data\n",
        "dataset = keras.datasets.cifar10\n",
        "(images_data_train, labels_data_train), (images_data_test, labels_data_test) = dataset.load_data()\n",
        "\n",
        "# inspect data\n",
        "print(images_data_train.shape)\n",
        "# amount of data, data width, data height, dementions (3 = RGB) "
      ],
      "execution_count": 3,
      "outputs": [
        {
          "output_type": "stream",
          "text": [
            "(50000, 32, 32, 3)\n"
          ],
          "name": "stdout"
        }
      ]
    },
    {
      "cell_type": "code",
      "metadata": {
        "id": "qQPXAE9sganI",
        "colab": {
          "base_uri": "https://localhost:8080/"
        },
        "outputId": "a1d7b6ad-7551-4211-cc81-dad3babd8df0"
      },
      "source": [
        "# Prepare images (normalize pixels), we want to work with values between 1 and 0\n",
        "images_valid, images_train = images_data_train[:5000] / 255.0, images_data_train[5000:] / 255.0, \n",
        "labels_valid, labels_train = labels_data_train[:5000], labels_data_train[5000:], \n",
        "images_test = images_data_test / 255.0\n",
        "\n",
        "# We also take some data form training data and use it as validation data during training\n",
        "print('images to train on: ', images_train.shape)\n",
        "print('images to validate on: ', images_valid.shape)\n",
        "print('images to test on: ', images_test.shape)"
      ],
      "execution_count": 4,
      "outputs": [
        {
          "output_type": "stream",
          "text": [
            "images to train on:  (45000, 32, 32, 3)\n",
            "images to validate on:  (5000, 32, 32, 3)\n",
            "images to test on:  (10000, 32, 32, 3)\n"
          ],
          "name": "stdout"
        }
      ]
    },
    {
      "cell_type": "code",
      "metadata": {
        "colab": {
          "base_uri": "https://localhost:8080/",
          "height": 283
        },
        "id": "pKTHbcwooPL0",
        "outputId": "4d657ff5-5e3b-4762-b529-f402fd7ff504"
      },
      "source": [
        "# Set up label values, we want labels to be categorical\n",
        "imageClassificationNames = [ 'Airplane', 'Automobile', 'Bird', 'Cat', 'Deer', 'Dog', 'Frog', 'Horse', 'Ship', 'Truck'];\n",
        "labels_valid_categorical = to_categorical(labels_valid);\n",
        "labels_train_categorical = to_categorical(labels_train);\n",
        "\n",
        "# Take a look at example of the image\n",
        "print( numpy.array(imageClassificationNames)[labels_train[0].astype(int)] )\n",
        "pyplot.imshow(images_train[0]) \n",
        "pyplot.show()"
      ],
      "execution_count": 5,
      "outputs": [
        {
          "output_type": "stream",
          "text": [
            "['Frog']\n"
          ],
          "name": "stdout"
        },
        {
          "output_type": "display_data",
          "data": {
            "image/png": "[encoded data removed]",
            "text/plain": [
              "<Figure size 432x288 with 1 Axes>"
            ]
          },
          "metadata": {
            "tags": [],
            "needs_background": "light"
          }
        }
      ]
    },
    {
      "cell_type": "code",
      "metadata": {
        "colab": {
          "base_uri": "https://localhost:8080/"
        },
        "id": "mK9ZBQk16R5H",
        "outputId": "10922c04-3c6d-409c-83be-ae65c729d0a0"
      },
      "source": [
        "model = keras.Sequential()\n",
        "\n",
        "# Add the first layer\n",
        "model.add(Conv2D(32, (5,5), activation='relu', input_shape=(32, 32, 3)))\n",
        "\n",
        "# Add a pooling layer\n",
        "model.add(MaxPooling2D( pool_size=(2,2)))\n",
        "\n",
        "# add convolution layer\n",
        "model.add(Conv2D(32, (5,5), activation='relu'))\n",
        "\n",
        "# Add a pooling layer\n",
        "model.add(MaxPooling2D( pool_size=(2,2)))\n",
        "\n",
        "# Add flattening layer\n",
        "model.add(Flatten())\n",
        "\n",
        "#Add a layer with 500 neurons\n",
        "model.add(Dense(500, activation='relu'))\n",
        "\n",
        "#Add drop out layer\n",
        "model.add(Dropout(0.5))\n",
        "\n",
        "#Add a layer with 250 neurons\n",
        "model.add(Dense(250, activation='relu'))\n",
        "\n",
        "#Add a layer with 250 neurons\n",
        "model.add(Dense(250, activation='relu'))\n",
        "\n",
        "#Add a layer with 10 neurons\n",
        "model.add(Dense(10, activation='softmax'))\n",
        "\n",
        "# Check model's summary\n",
        "model.summary()\n"
      ],
      "execution_count": 6,
      "outputs": [
        {
          "output_type": "stream",
          "text": [
            "Model: \"sequential\"\n",
            "_________________________________________________________________\n",
            "Layer (type)                 Output Shape              Param #   \n",
            "=================================================================\n",
            "conv2d (Conv2D)              (None, 28, 28, 32)        2432      \n",
            "_________________________________________________________________\n",
            "max_pooling2d (MaxPooling2D) (None, 14, 14, 32)        0         \n",
            "_________________________________________________________________\n",
            "conv2d_1 (Conv2D)            (None, 10, 10, 32)        25632     \n",
            "_________________________________________________________________\n",
            "max_pooling2d_1 (MaxPooling2 (None, 5, 5, 32)          0         \n",
            "_________________________________________________________________\n",
            "flatten (Flatten)            (None, 800)               0         \n",
            "_________________________________________________________________\n",
            "dense (Dense)                (None, 500)               400500    \n",
            "_________________________________________________________________\n",
            "dropout (Dropout)            (None, 500)               0         \n",
            "_________________________________________________________________\n",
            "dense_1 (Dense)              (None, 250)               125250    \n",
            "_________________________________________________________________\n",
            "dense_2 (Dense)              (None, 250)               62750     \n",
            "_________________________________________________________________\n",
            "dense_3 (Dense)              (None, 10)                2510      \n",
            "=================================================================\n",
            "Total params: 619,074\n",
            "Trainable params: 619,074\n",
            "Non-trainable params: 0\n",
            "_________________________________________________________________\n"
          ],
          "name": "stdout"
        }
      ]
    },
    {
      "cell_type": "code",
      "metadata": {
        "id": "4CgaQ3CgynMU"
      },
      "source": [
        "# Compile the model\n",
        "model.compile( loss = keras.losses.categorical_crossentropy, optimizer=keras.optimizers.Adam(), metrics= ['accuracy'] )\n",
        "\n",
        "# Add early stop for the model\n",
        "early_stop = keras.callbacks.EarlyStopping(patience=10, restore_best_weights=True)\n",
        "\n",
        "# Add learning rate reducer for the model\n",
        "learning_rate = keras.callbacks.ReduceLROnPlateau(factor=0.2, patience=4)"
      ],
      "execution_count": 7,
      "outputs": []
    },
    {
      "cell_type": "code",
      "metadata": {
        "colab": {
          "base_uri": "https://localhost:8080/"
        },
        "id": "cRK0bH60t0PJ",
        "outputId": "28295372-cde0-4a08-9f50-821e09b75f00"
      },
      "source": [
        "# Finally, start training\n",
        "history = model.fit( images_train,\n",
        "                    labels_train_categorical,\n",
        "                    epochs=30,\n",
        "                    batch_size=32,\n",
        "                    validation_data=(images_valid, labels_valid_categorical),\n",
        "                    callbacks=[early_stop, learning_rate]\n",
        "                    )"
      ],
      "execution_count": 8,
      "outputs": [
        {
          "output_type": "stream",
          "text": [
            "Epoch 1/30\n",
            "1407/1407 [==============================] - 71s 51ms/step - loss: 1.6215 - accuracy: 0.3979 - val_loss: 1.5161 - val_accuracy: 0.4834\n",
            "Epoch 2/30\n",
            "1407/1407 [==============================] - 71s 50ms/step - loss: 1.3133 - accuracy: 0.5295 - val_loss: 1.1540 - val_accuracy: 0.5962\n",
            "Epoch 3/30\n",
            "1407/1407 [==============================] - 71s 51ms/step - loss: 1.1686 - accuracy: 0.5844 - val_loss: 1.0651 - val_accuracy: 0.6230\n",
            "Epoch 4/30\n",
            "1407/1407 [==============================] - 72s 51ms/step - loss: 1.0724 - accuracy: 0.6180 - val_loss: 1.0590 - val_accuracy: 0.6348\n",
            "Epoch 5/30\n",
            "1407/1407 [==============================] - 72s 51ms/step - loss: 0.9958 - accuracy: 0.6472 - val_loss: 1.0460 - val_accuracy: 0.6410\n",
            "Epoch 6/30\n",
            "1407/1407 [==============================] - 72s 51ms/step - loss: 0.9385 - accuracy: 0.6673 - val_loss: 0.9506 - val_accuracy: 0.6696\n",
            "Epoch 7/30\n",
            "1407/1407 [==============================] - 72s 51ms/step - loss: 0.8900 - accuracy: 0.6857 - val_loss: 0.9548 - val_accuracy: 0.6718\n",
            "Epoch 8/30\n",
            "1407/1407 [==============================] - 73s 52ms/step - loss: 0.8498 - accuracy: 0.7010 - val_loss: 0.9378 - val_accuracy: 0.6750\n",
            "Epoch 9/30\n",
            "1407/1407 [==============================] - 72s 51ms/step - loss: 0.8094 - accuracy: 0.7145 - val_loss: 0.9268 - val_accuracy: 0.6810\n",
            "Epoch 10/30\n",
            "1407/1407 [==============================] - 73s 52ms/step - loss: 0.7806 - accuracy: 0.7240 - val_loss: 0.9641 - val_accuracy: 0.6716\n",
            "Epoch 11/30\n",
            "1407/1407 [==============================] - 72s 51ms/step - loss: 0.7481 - accuracy: 0.7349 - val_loss: 0.9075 - val_accuracy: 0.6834\n",
            "Epoch 12/30\n",
            "1407/1407 [==============================] - 72s 51ms/step - loss: 0.7160 - accuracy: 0.7451 - val_loss: 0.9117 - val_accuracy: 0.6942\n",
            "Epoch 13/30\n",
            "1407/1407 [==============================] - 72s 51ms/step - loss: 0.6855 - accuracy: 0.7574 - val_loss: 0.9380 - val_accuracy: 0.6900\n",
            "Epoch 14/30\n",
            "1407/1407 [==============================] - 72s 51ms/step - loss: 0.6646 - accuracy: 0.7640 - val_loss: 0.8991 - val_accuracy: 0.6974\n",
            "Epoch 15/30\n",
            "1407/1407 [==============================] - 72s 51ms/step - loss: 0.6444 - accuracy: 0.7717 - val_loss: 0.8993 - val_accuracy: 0.6986\n",
            "Epoch 16/30\n",
            "1407/1407 [==============================] - 72s 51ms/step - loss: 0.6240 - accuracy: 0.7791 - val_loss: 0.9070 - val_accuracy: 0.6994\n",
            "Epoch 17/30\n",
            "1407/1407 [==============================] - 72s 51ms/step - loss: 0.6057 - accuracy: 0.7843 - val_loss: 0.9379 - val_accuracy: 0.6870\n",
            "Epoch 18/30\n",
            "1407/1407 [==============================] - 72s 51ms/step - loss: 0.5828 - accuracy: 0.7935 - val_loss: 0.9252 - val_accuracy: 0.6918\n",
            "Epoch 19/30\n",
            "1407/1407 [==============================] - 72s 51ms/step - loss: 0.4338 - accuracy: 0.8433 - val_loss: 0.9179 - val_accuracy: 0.7098\n",
            "Epoch 20/30\n",
            "1407/1407 [==============================] - 72s 51ms/step - loss: 0.3972 - accuracy: 0.8561 - val_loss: 0.9466 - val_accuracy: 0.7062\n",
            "Epoch 21/30\n",
            "1407/1407 [==============================] - 73s 52ms/step - loss: 0.3784 - accuracy: 0.8623 - val_loss: 0.9326 - val_accuracy: 0.7126\n",
            "Epoch 22/30\n",
            "1407/1407 [==============================] - 73s 52ms/step - loss: 0.3620 - accuracy: 0.8694 - val_loss: 0.9477 - val_accuracy: 0.7158\n",
            "Epoch 23/30\n",
            "1407/1407 [==============================] - 72s 52ms/step - loss: 0.3274 - accuracy: 0.8817 - val_loss: 0.9575 - val_accuracy: 0.7142\n",
            "Epoch 24/30\n",
            "1407/1407 [==============================] - 72s 51ms/step - loss: 0.3205 - accuracy: 0.8852 - val_loss: 0.9673 - val_accuracy: 0.7194\n"
          ],
          "name": "stdout"
        }
      ]
    },
    {
      "cell_type": "code",
      "metadata": {
        "colab": {
          "base_uri": "https://localhost:8080/",
          "height": 320
        },
        "id": "bQV-KFx-1A7Q",
        "outputId": "29b7747a-3194-426d-fa86-b28cec3500fc"
      },
      "source": [
        "# Now we can see learning grapgh\n",
        "pd.DataFrame(history.history).plot(figsize=(8,5))\n",
        "pyplot.grid(True)\n",
        "pyplot.show()"
      ],
      "execution_count": 9,
      "outputs": [
        {
          "output_type": "display_data",
          "data": {
            "image/png": "[encoded data removed]",
            "text/plain": [
              "<Figure size 576x360 with 1 Axes>"
            ]
          },
          "metadata": {
            "tags": [],
            "needs_background": "light"
          }
        }
      ]
    },
    {
      "cell_type": "code",
      "metadata": {
        "colab": {
          "base_uri": "https://localhost:8080/"
        },
        "id": "y-GRzzP85zDT",
        "outputId": "053c53d7-cd9d-4b1f-a791-22060d9f5ece"
      },
      "source": [
        "# Evaluate the results\r\n",
        "model.evaluate(images_test, to_categorical(labels_data_test))"
      ],
      "execution_count": 10,
      "outputs": [
        {
          "output_type": "stream",
          "text": [
            "313/313 [==============================] - 4s 14ms/step - loss: 0.9151 - accuracy: 0.6892\n"
          ],
          "name": "stdout"
        },
        {
          "output_type": "execute_result",
          "data": {
            "text/plain": [
              "[0.9150648713111877, 0.6891999840736389]"
            ]
          },
          "metadata": {
            "tags": []
          },
          "execution_count": 10
        }
      ]
    },
    {
      "cell_type": "code",
      "metadata": {
        "colab": {
          "base_uri": "https://localhost:8080/"
        },
        "id": "ZOSscXb45y9Q",
        "outputId": "3b12ad71-38e2-4d29-a26d-883dbff9c761"
      },
      "source": [
        "# Try to predict some images\n",
        "images_new = images_test[:3]\n",
        "\n",
        "# Here we can see the persentages of propability of classification\n",
        "print(imageClassificationNames)\n",
        "labels_prob = model.predict(images_new)\n",
        "labels_prob.round(2)"
      ],
      "execution_count": 12,
      "outputs": [
        {
          "output_type": "stream",
          "text": [
            "['Airplane', 'Automobile', 'Bird', 'Cat', 'Deer', 'Dog', 'Frog', 'Horse', 'Ship', 'Truck']\n"
          ],
          "name": "stdout"
        },
        {
          "output_type": "execute_result",
          "data": {
            "text/plain": [
              "array([[0.01, 0.07, 0.  , 0.59, 0.  , 0.07, 0.  , 0.  , 0.25, 0.  ],\n",
              "       [0.  , 0.89, 0.  , 0.  , 0.  , 0.  , 0.  , 0.  , 0.11, 0.  ],\n",
              "       [0.05, 0.35, 0.  , 0.  , 0.  , 0.  , 0.  , 0.  , 0.52, 0.07]],\n",
              "      dtype=float32)"
            ]
          },
          "metadata": {
            "tags": []
          },
          "execution_count": 12
        }
      ]
    },
    {
      "cell_type": "markdown",
      "metadata": {
        "id": "fVeGtCKrgao8"
      },
      "source": [
        ""
      ]
    }
  ]
}
